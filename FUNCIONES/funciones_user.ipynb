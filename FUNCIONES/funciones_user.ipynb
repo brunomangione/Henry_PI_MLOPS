{
 "cells": [
  {
   "cell_type": "markdown",
   "metadata": {},
   "source": [
    "Este libro de python es para probar las funciones 3 y 4\n",
    "\n",
    "def UsersRecommend( año : int ): Devuelve el top 3 de juegos MÁS recomendados por usuarios para el año dado. (reviews.recommend = True y comentarios positivos/neutrales)\n",
    "Ejemplo de retorno: [{\"Puesto 1\" : X}, {\"Puesto 2\" : Y},{\"Puesto 3\" : Z}]\n",
    "\n",
    "def UsersNotRecommend( año : int ): Devuelve el top 3 de juegos MENOS recomendados por usuarios para el año dado. (reviews.recommend = False y comentarios negativos)\n",
    "Ejemplo de retorno: [{\"Puesto 1\" : X}, {\"Puesto 2\" : Y},{\"Puesto 3\" : Z}]"
   ]
  },
  {
   "cell_type": "code",
   "execution_count": 2,
   "metadata": {},
   "outputs": [],
   "source": [
    "# Importamos libreria\n",
    "import pandas as pd\n"
   ]
  },
  {
   "cell_type": "code",
   "execution_count": 3,
   "metadata": {},
   "outputs": [],
   "source": [
    "# Leemos archivos csv finales de items y reviews\n",
    "items = pd.read_csv('./Archivos_csv/items_final.csv')\n",
    "reviews = pd.read_csv('./Archivos_csv/reviews_final.csv')"
   ]
  },
  {
   "cell_type": "code",
   "execution_count": 6,
   "metadata": {},
   "outputs": [],
   "source": [
    "# Hacemos un merge de los 2 df por medio de user_id\n",
    "user = items.merge(reviews, on=\"user_id\", how=\"inner\")"
   ]
  },
  {
   "cell_type": "code",
   "execution_count": 7,
   "metadata": {},
   "outputs": [
    {
     "data": {
      "text/html": [
       "<div>\n",
       "<style scoped>\n",
       "    .dataframe tbody tr th:only-of-type {\n",
       "        vertical-align: middle;\n",
       "    }\n",
       "\n",
       "    .dataframe tbody tr th {\n",
       "        vertical-align: top;\n",
       "    }\n",
       "\n",
       "    .dataframe thead th {\n",
       "        text-align: right;\n",
       "    }\n",
       "</style>\n",
       "<table border=\"1\" class=\"dataframe\">\n",
       "  <thead>\n",
       "    <tr style=\"text-align: right;\">\n",
       "      <th></th>\n",
       "      <th>user_id</th>\n",
       "      <th>items_count</th>\n",
       "      <th>steam_id</th>\n",
       "      <th>item_id_x</th>\n",
       "      <th>item_name</th>\n",
       "      <th>playtime_forever</th>\n",
       "      <th>item_id_y</th>\n",
       "      <th>recommend</th>\n",
       "      <th>review</th>\n",
       "      <th>sentiment_analysis</th>\n",
       "      <th>year</th>\n",
       "    </tr>\n",
       "  </thead>\n",
       "  <tbody>\n",
       "    <tr>\n",
       "      <th>0</th>\n",
       "      <td>76561197970982479</td>\n",
       "      <td>277.0</td>\n",
       "      <td>76561197970982479</td>\n",
       "      <td>10</td>\n",
       "      <td>Counter-Strike</td>\n",
       "      <td>6</td>\n",
       "      <td>1250.0</td>\n",
       "      <td>True</td>\n",
       "      <td>Simple yet with great replayability. In my opi...</td>\n",
       "      <td>2</td>\n",
       "      <td>2011</td>\n",
       "    </tr>\n",
       "    <tr>\n",
       "      <th>1</th>\n",
       "      <td>js41637</td>\n",
       "      <td>888.0</td>\n",
       "      <td>76561198035864385</td>\n",
       "      <td>20</td>\n",
       "      <td>Team Fortress Classic</td>\n",
       "      <td>0</td>\n",
       "      <td>22200.0</td>\n",
       "      <td>True</td>\n",
       "      <td>It's unique and worth a playthrough.</td>\n",
       "      <td>2</td>\n",
       "      <td>2011</td>\n",
       "    </tr>\n",
       "    <tr>\n",
       "      <th>2</th>\n",
       "      <td>evcentric</td>\n",
       "      <td>137.0</td>\n",
       "      <td>76561198007712555</td>\n",
       "      <td>30</td>\n",
       "      <td>Day of Defeat</td>\n",
       "      <td>7</td>\n",
       "      <td>43110.0</td>\n",
       "      <td>True</td>\n",
       "      <td>Great atmosphere. The gunplay can be a bit chu...</td>\n",
       "      <td>2</td>\n",
       "      <td>2011</td>\n",
       "    </tr>\n",
       "    <tr>\n",
       "      <th>3</th>\n",
       "      <td>doctr</td>\n",
       "      <td>541.0</td>\n",
       "      <td>76561198002099482</td>\n",
       "      <td>50</td>\n",
       "      <td>Half-Life: Opposing Force</td>\n",
       "      <td>0</td>\n",
       "      <td>251610.0</td>\n",
       "      <td>True</td>\n",
       "      <td>I know what you think when you see this title ...</td>\n",
       "      <td>2</td>\n",
       "      <td>2014</td>\n",
       "    </tr>\n",
       "    <tr>\n",
       "      <th>4</th>\n",
       "      <td>maplemage</td>\n",
       "      <td>629.0</td>\n",
       "      <td>76561198026584251</td>\n",
       "      <td>300</td>\n",
       "      <td>Day of Defeat: Source</td>\n",
       "      <td>4733</td>\n",
       "      <td>227300.0</td>\n",
       "      <td>True</td>\n",
       "      <td>For a simple (it's actually not all that simpl...</td>\n",
       "      <td>2</td>\n",
       "      <td>2013</td>\n",
       "    </tr>\n",
       "  </tbody>\n",
       "</table>\n",
       "</div>"
      ],
      "text/plain": [
       "             user_id  items_count           steam_id  item_id_x  \\\n",
       "0  76561197970982479        277.0  76561197970982479         10   \n",
       "1            js41637        888.0  76561198035864385         20   \n",
       "2          evcentric        137.0  76561198007712555         30   \n",
       "3              doctr        541.0  76561198002099482         50   \n",
       "4          maplemage        629.0  76561198026584251        300   \n",
       "\n",
       "                   item_name  playtime_forever  item_id_y  recommend  \\\n",
       "0             Counter-Strike                 6     1250.0       True   \n",
       "1      Team Fortress Classic                 0    22200.0       True   \n",
       "2              Day of Defeat                 7    43110.0       True   \n",
       "3  Half-Life: Opposing Force                 0   251610.0       True   \n",
       "4      Day of Defeat: Source              4733   227300.0       True   \n",
       "\n",
       "                                              review  sentiment_analysis  year  \n",
       "0  Simple yet with great replayability. In my opi...                   2  2011  \n",
       "1               It's unique and worth a playthrough.                   2  2011  \n",
       "2  Great atmosphere. The gunplay can be a bit chu...                   2  2011  \n",
       "3  I know what you think when you see this title ...                   2  2014  \n",
       "4  For a simple (it's actually not all that simpl...                   2  2013  "
      ]
     },
     "execution_count": 7,
     "metadata": {},
     "output_type": "execute_result"
    }
   ],
   "source": [
    "# Vemos como queda el DF\n",
    "user.head()"
   ]
  },
  {
   "cell_type": "code",
   "execution_count": 9,
   "metadata": {},
   "outputs": [],
   "source": [
    "# Eliminamos nulos \n",
    "user = user.dropna()"
   ]
  },
  {
   "cell_type": "code",
   "execution_count": 10,
   "metadata": {},
   "outputs": [
    {
     "name": "stdout",
     "output_type": "stream",
     "text": [
      "<class 'pandas.core.frame.DataFrame'>\n",
      "RangeIndex: 20855 entries, 0 to 20854\n",
      "Data columns (total 11 columns):\n",
      " #   Column              Non-Null Count  Dtype  \n",
      "---  ------              --------------  -----  \n",
      " 0   user_id             20855 non-null  object \n",
      " 1   items_count         20855 non-null  float64\n",
      " 2   steam_id            20855 non-null  int64  \n",
      " 3   item_id_x           20855 non-null  int64  \n",
      " 4   item_name           20855 non-null  object \n",
      " 5   playtime_forever    20855 non-null  int64  \n",
      " 6   item_id_y           20855 non-null  float64\n",
      " 7   recommend           20855 non-null  bool   \n",
      " 8   review              20855 non-null  object \n",
      " 9   sentiment_analysis  20855 non-null  int64  \n",
      " 10  year                20855 non-null  int64  \n",
      "dtypes: bool(1), float64(2), int64(5), object(3)\n",
      "memory usage: 1.6+ MB\n"
     ]
    }
   ],
   "source": [
    "# Vemos como queda la info del df\n",
    "user.info()"
   ]
  },
  {
   "cell_type": "code",
   "execution_count": 13,
   "metadata": {},
   "outputs": [],
   "source": [
    "# Eliminamos las columnas que creemos que no vamos a utilizar\n",
    "user = user.drop(columns=['items_count', 'playtime_forever', 'item_id_y', 'item_id_x'])"
   ]
  },
  {
   "cell_type": "code",
   "execution_count": 14,
   "metadata": {},
   "outputs": [
    {
     "data": {
      "text/html": [
       "<div>\n",
       "<style scoped>\n",
       "    .dataframe tbody tr th:only-of-type {\n",
       "        vertical-align: middle;\n",
       "    }\n",
       "\n",
       "    .dataframe tbody tr th {\n",
       "        vertical-align: top;\n",
       "    }\n",
       "\n",
       "    .dataframe thead th {\n",
       "        text-align: right;\n",
       "    }\n",
       "</style>\n",
       "<table border=\"1\" class=\"dataframe\">\n",
       "  <thead>\n",
       "    <tr style=\"text-align: right;\">\n",
       "      <th></th>\n",
       "      <th>user_id</th>\n",
       "      <th>steam_id</th>\n",
       "      <th>item_name</th>\n",
       "      <th>recommend</th>\n",
       "      <th>review</th>\n",
       "      <th>sentiment_analysis</th>\n",
       "      <th>year</th>\n",
       "    </tr>\n",
       "  </thead>\n",
       "  <tbody>\n",
       "    <tr>\n",
       "      <th>0</th>\n",
       "      <td>76561197970982479</td>\n",
       "      <td>76561197970982479</td>\n",
       "      <td>Counter-Strike</td>\n",
       "      <td>True</td>\n",
       "      <td>Simple yet with great replayability. In my opi...</td>\n",
       "      <td>2</td>\n",
       "      <td>2011</td>\n",
       "    </tr>\n",
       "    <tr>\n",
       "      <th>1</th>\n",
       "      <td>js41637</td>\n",
       "      <td>76561198035864385</td>\n",
       "      <td>Team Fortress Classic</td>\n",
       "      <td>True</td>\n",
       "      <td>It's unique and worth a playthrough.</td>\n",
       "      <td>2</td>\n",
       "      <td>2011</td>\n",
       "    </tr>\n",
       "    <tr>\n",
       "      <th>2</th>\n",
       "      <td>evcentric</td>\n",
       "      <td>76561198007712555</td>\n",
       "      <td>Day of Defeat</td>\n",
       "      <td>True</td>\n",
       "      <td>Great atmosphere. The gunplay can be a bit chu...</td>\n",
       "      <td>2</td>\n",
       "      <td>2011</td>\n",
       "    </tr>\n",
       "    <tr>\n",
       "      <th>3</th>\n",
       "      <td>doctr</td>\n",
       "      <td>76561198002099482</td>\n",
       "      <td>Half-Life: Opposing Force</td>\n",
       "      <td>True</td>\n",
       "      <td>I know what you think when you see this title ...</td>\n",
       "      <td>2</td>\n",
       "      <td>2014</td>\n",
       "    </tr>\n",
       "    <tr>\n",
       "      <th>4</th>\n",
       "      <td>maplemage</td>\n",
       "      <td>76561198026584251</td>\n",
       "      <td>Day of Defeat: Source</td>\n",
       "      <td>True</td>\n",
       "      <td>For a simple (it's actually not all that simpl...</td>\n",
       "      <td>2</td>\n",
       "      <td>2013</td>\n",
       "    </tr>\n",
       "  </tbody>\n",
       "</table>\n",
       "</div>"
      ],
      "text/plain": [
       "             user_id           steam_id                  item_name  recommend  \\\n",
       "0  76561197970982479  76561197970982479             Counter-Strike       True   \n",
       "1            js41637  76561198035864385      Team Fortress Classic       True   \n",
       "2          evcentric  76561198007712555              Day of Defeat       True   \n",
       "3              doctr  76561198002099482  Half-Life: Opposing Force       True   \n",
       "4          maplemage  76561198026584251      Day of Defeat: Source       True   \n",
       "\n",
       "                                              review  sentiment_analysis  year  \n",
       "0  Simple yet with great replayability. In my opi...                   2  2011  \n",
       "1               It's unique and worth a playthrough.                   2  2011  \n",
       "2  Great atmosphere. The gunplay can be a bit chu...                   2  2011  \n",
       "3  I know what you think when you see this title ...                   2  2014  \n",
       "4  For a simple (it's actually not all that simpl...                   2  2013  "
      ]
     },
     "execution_count": 14,
     "metadata": {},
     "output_type": "execute_result"
    }
   ],
   "source": [
    "# Vemos el DF mas limpio\n",
    "user.head()"
   ]
  },
  {
   "cell_type": "code",
   "execution_count": 15,
   "metadata": {},
   "outputs": [],
   "source": [
    "# Creamos la tercer funcion\n",
    "\n",
    "def top_recommended_games(year):\n",
    "    filtro_df = user[(user['year'] == year) & (user['recommend'] == True)]  \n",
    "    \n",
    "    if filtro_df.empty:\n",
    "        return f\"El año {year} no se encuentra en los registros.\"\n",
    "    else:\n",
    "        game_recommendations = filtro_df.groupby('item_name')['user_id'].count().reset_index()\n",
    "    \n",
    "        top_games = game_recommendations.sort_values(by='user_id', ascending=False)\n",
    "    \n",
    "        top_3_games = top_games.head(3)\n",
    "    \n",
    "    result = [{\"Puesto 1\": top_3_games.iloc[0]['item_name']}, {\"Puesto 2\": top_3_games.iloc[1]['item_name']}, {\"Puesto 3\": top_3_games.iloc[2]['item_name']}]\n",
    "    \n",
    "    return result"
   ]
  },
  {
   "cell_type": "code",
   "execution_count": 17,
   "metadata": {},
   "outputs": [
    {
     "data": {
      "text/plain": [
       "[{'Puesto 1': 'Counter-Strike: Global Offensive'},\n",
       " {'Puesto 2': 'Unturned'},\n",
       " {'Puesto 3': \"Garry's Mod\"}]"
      ]
     },
     "execution_count": 17,
     "metadata": {},
     "output_type": "execute_result"
    }
   ],
   "source": [
    "# Probamos a la tercer funcion\n",
    "top_recommended_games(2014)"
   ]
  },
  {
   "cell_type": "code",
   "execution_count": 18,
   "metadata": {},
   "outputs": [],
   "source": [
    "# Creamos la cuarta funcion\n",
    "\n",
    "def top_least_recommended_games(year):\n",
    "    # Cambiar recommend a False para juegos menos recomendados\n",
    "    filtro_df = user[(user['year'] == year) & (user['recommend'] == False)]  \n",
    "    \n",
    "    if filtro_df.empty:\n",
    "        return f\"El año {year} no se encuentra en los registros.\"\n",
    "    \n",
    "    game_recommendations = filtro_df.groupby('item_name')['user_id'].count().reset_index()\n",
    "    \n",
    "    # Ordenar de forma ascendente para obtener los menos recomendados\n",
    "    top_games = game_recommendations.sort_values(by='user_id', ascending=True)  \n",
    "    \n",
    "    top_3_games = top_games.head(3)\n",
    "    \n",
    "    result = [{\"Puesto 1\": top_3_games.iloc[0]['item_name']}, {\"Puesto 2\": top_3_games.iloc[1]['item_name']}, {\"Puesto 3\": top_3_games.iloc[2]['item_name']}]\n",
    "    \n",
    "    return result"
   ]
  },
  {
   "cell_type": "code",
   "execution_count": 19,
   "metadata": {},
   "outputs": [
    {
     "data": {
      "text/plain": [
       "[{'Puesto 1': '100% Orange Juice'},\n",
       " {'Puesto 2': \"Oddworld: Abe's Oddysee\"},\n",
       " {'Puesto 3': \"Oddworld: Munch's Oddysee\"}]"
      ]
     },
     "execution_count": 19,
     "metadata": {},
     "output_type": "execute_result"
    }
   ],
   "source": [
    "# Probamos la cuarta funcion\n",
    "top_least_recommended_games(2015)"
   ]
  },
  {
   "cell_type": "code",
   "execution_count": 20,
   "metadata": {},
   "outputs": [],
   "source": [
    "# Creamos un ruta para exportar un archivo parquet de nuestro df para utilizar en las funciones de FastApi\n",
    "ruta_parquet = 'userrecomend.parquet'"
   ]
  },
  {
   "cell_type": "code",
   "execution_count": 21,
   "metadata": {},
   "outputs": [],
   "source": [
    "user.to_parquet(ruta_parquet, engine='fastparquet')"
   ]
  }
 ],
 "metadata": {
  "interpreter": {
   "hash": "aee8b7b246df8f9039afb4144a1f6fd8d2ca17a180786b69acc140d282b71a49"
  },
  "kernelspec": {
   "display_name": "Python 3.11.4 64-bit",
   "language": "python",
   "name": "python3"
  },
  "language_info": {
   "codemirror_mode": {
    "name": "ipython",
    "version": 3
   },
   "file_extension": ".py",
   "mimetype": "text/x-python",
   "name": "python",
   "nbconvert_exporter": "python",
   "pygments_lexer": "ipython3",
   "version": "3.11.4"
  },
  "orig_nbformat": 4
 },
 "nbformat": 4,
 "nbformat_minor": 2
}
