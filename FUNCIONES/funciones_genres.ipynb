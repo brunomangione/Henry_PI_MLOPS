{
 "cells": [
  {
   "cell_type": "markdown",
   "metadata": {},
   "source": [
    "En este libro de python vamos a probar las funciones 1 y 2: \n",
    "\n",
    "def PlayTimeGenre( genero : str ): Debe devolver año con mas horas jugadas para dicho género.\n",
    "Ejemplo de retorno: {\"Año de lanzamiento con más horas jugadas para Género X\" : 2013}\n",
    "\n",
    "\n",
    "def UserForGenre( genero : str ): Debe devolver el usuario que acumula más horas jugadas para el género dado y una lista de la acumulación de horas jugadas por año.\n",
    "Ejemplo de retorno: {\"Usuario con más horas jugadas para Género X\" : us213ndjss09sdf, \"Horas jugadas\":[{Año: 2013, Horas: 203}, {Año: 2012, Horas: 100}, {Año: 2011, Horas: 23}]}"
   ]
  },
  {
   "cell_type": "code",
   "execution_count": 53,
   "metadata": {},
   "outputs": [],
   "source": [
    "# Comenzamos importando librerias\n",
    "import pandas as pd\n"
   ]
  },
  {
   "cell_type": "code",
   "execution_count": 54,
   "metadata": {},
   "outputs": [],
   "source": [
    "# Leemos los csv finales creado y guardamos \n",
    "games = pd.read_csv('../Archivos_csv/games_final.csv')\n",
    "items = pd.read_csv('../Archivos_csv/items_final.csv')"
   ]
  },
  {
   "cell_type": "code",
   "execution_count": 55,
   "metadata": {},
   "outputs": [],
   "source": [
    "# Creamos un nuevo dataframe con los csv cargados, lo que hacemos es un Merge por medio del item_id y id, que contienen los mismos valores.\n",
    "data = games.merge(items, left_on=\"id\", right_on=\"item_id\", how=\"inner\")"
   ]
  },
  {
   "cell_type": "code",
   "execution_count": 56,
   "metadata": {},
   "outputs": [
    {
     "data": {
      "text/html": [
       "<div>\n",
       "<style scoped>\n",
       "    .dataframe tbody tr th:only-of-type {\n",
       "        vertical-align: middle;\n",
       "    }\n",
       "\n",
       "    .dataframe tbody tr th {\n",
       "        vertical-align: top;\n",
       "    }\n",
       "\n",
       "    .dataframe thead th {\n",
       "        text-align: right;\n",
       "    }\n",
       "</style>\n",
       "<table border=\"1\" class=\"dataframe\">\n",
       "  <thead>\n",
       "    <tr style=\"text-align: right;\">\n",
       "      <th></th>\n",
       "      <th>genres</th>\n",
       "      <th>app_name</th>\n",
       "      <th>title</th>\n",
       "      <th>early_access</th>\n",
       "      <th>id</th>\n",
       "      <th>year</th>\n",
       "      <th>user_id</th>\n",
       "      <th>items_count</th>\n",
       "      <th>steam_id</th>\n",
       "      <th>item_id</th>\n",
       "      <th>item_name</th>\n",
       "      <th>playtime_forever</th>\n",
       "    </tr>\n",
       "  </thead>\n",
       "  <tbody>\n",
       "    <tr>\n",
       "      <th>0</th>\n",
       "      <td>Action</td>\n",
       "      <td>Carmageddon Max Pack</td>\n",
       "      <td>Carmageddon Max Pack</td>\n",
       "      <td>False</td>\n",
       "      <td>282010</td>\n",
       "      <td>1997</td>\n",
       "      <td>Uw0tm8MeaslesVaccines</td>\n",
       "      <td>129.0</td>\n",
       "      <td>76561198057092464</td>\n",
       "      <td>282010</td>\n",
       "      <td>Carmageddon Max Pack</td>\n",
       "      <td>5</td>\n",
       "    </tr>\n",
       "    <tr>\n",
       "      <th>1</th>\n",
       "      <td>Action</td>\n",
       "      <td>Carmageddon Max Pack</td>\n",
       "      <td>Carmageddon Max Pack</td>\n",
       "      <td>False</td>\n",
       "      <td>282010</td>\n",
       "      <td>1997</td>\n",
       "      <td>kelpykelpy</td>\n",
       "      <td>27.0</td>\n",
       "      <td>76561197974613697</td>\n",
       "      <td>282010</td>\n",
       "      <td>Carmageddon Max Pack</td>\n",
       "      <td>0</td>\n",
       "    </tr>\n",
       "    <tr>\n",
       "      <th>2</th>\n",
       "      <td>Action</td>\n",
       "      <td>Carmageddon Max Pack</td>\n",
       "      <td>Carmageddon Max Pack</td>\n",
       "      <td>False</td>\n",
       "      <td>282010</td>\n",
       "      <td>1997</td>\n",
       "      <td>76561198049237610</td>\n",
       "      <td>85.0</td>\n",
       "      <td>76561198049237610</td>\n",
       "      <td>282010</td>\n",
       "      <td>Carmageddon Max Pack</td>\n",
       "      <td>0</td>\n",
       "    </tr>\n",
       "    <tr>\n",
       "      <th>3</th>\n",
       "      <td>Action</td>\n",
       "      <td>Carmageddon Max Pack</td>\n",
       "      <td>Carmageddon Max Pack</td>\n",
       "      <td>False</td>\n",
       "      <td>282010</td>\n",
       "      <td>1997</td>\n",
       "      <td>76561198046186720</td>\n",
       "      <td>12.0</td>\n",
       "      <td>76561198046186720</td>\n",
       "      <td>282010</td>\n",
       "      <td>Carmageddon Max Pack</td>\n",
       "      <td>0</td>\n",
       "    </tr>\n",
       "    <tr>\n",
       "      <th>4</th>\n",
       "      <td>Action</td>\n",
       "      <td>Carmageddon Max Pack</td>\n",
       "      <td>Carmageddon Max Pack</td>\n",
       "      <td>False</td>\n",
       "      <td>282010</td>\n",
       "      <td>1997</td>\n",
       "      <td>76561198091166709</td>\n",
       "      <td>66.0</td>\n",
       "      <td>76561198091166709</td>\n",
       "      <td>282010</td>\n",
       "      <td>Carmageddon Max Pack</td>\n",
       "      <td>13</td>\n",
       "    </tr>\n",
       "  </tbody>\n",
       "</table>\n",
       "</div>"
      ],
      "text/plain": [
       "   genres              app_name                 title  early_access      id  \\\n",
       "0  Action  Carmageddon Max Pack  Carmageddon Max Pack         False  282010   \n",
       "1  Action  Carmageddon Max Pack  Carmageddon Max Pack         False  282010   \n",
       "2  Action  Carmageddon Max Pack  Carmageddon Max Pack         False  282010   \n",
       "3  Action  Carmageddon Max Pack  Carmageddon Max Pack         False  282010   \n",
       "4  Action  Carmageddon Max Pack  Carmageddon Max Pack         False  282010   \n",
       "\n",
       "   year                user_id  items_count           steam_id  item_id  \\\n",
       "0  1997  Uw0tm8MeaslesVaccines        129.0  76561198057092464   282010   \n",
       "1  1997             kelpykelpy         27.0  76561197974613697   282010   \n",
       "2  1997      76561198049237610         85.0  76561198049237610   282010   \n",
       "3  1997      76561198046186720         12.0  76561198046186720   282010   \n",
       "4  1997      76561198091166709         66.0  76561198091166709   282010   \n",
       "\n",
       "              item_name  playtime_forever  \n",
       "0  Carmageddon Max Pack                 5  \n",
       "1  Carmageddon Max Pack                 0  \n",
       "2  Carmageddon Max Pack                 0  \n",
       "3  Carmageddon Max Pack                 0  \n",
       "4  Carmageddon Max Pack                13  "
      ]
     },
     "execution_count": 56,
     "metadata": {},
     "output_type": "execute_result"
    }
   ],
   "source": [
    "# Vemos como sale el nuevo DF creado\n",
    "data.head()"
   ]
  },
  {
   "cell_type": "code",
   "execution_count": 57,
   "metadata": {},
   "outputs": [],
   "source": [
    "# Vemos que nos queda info repetida con app_name, title y item_name, por lo que solo dejamos item_name. Ademas id y item_id son iguales, dejamos solo item_id. Ademas early_acces y items_count no lo vamos a utilizar\n",
    "\n",
    "data = data.drop(columns=['app_name', 'title', 'early_access', 'id', 'items_count' ])"
   ]
  },
  {
   "cell_type": "code",
   "execution_count": 58,
   "metadata": {},
   "outputs": [
    {
     "data": {
      "text/html": [
       "<div>\n",
       "<style scoped>\n",
       "    .dataframe tbody tr th:only-of-type {\n",
       "        vertical-align: middle;\n",
       "    }\n",
       "\n",
       "    .dataframe tbody tr th {\n",
       "        vertical-align: top;\n",
       "    }\n",
       "\n",
       "    .dataframe thead th {\n",
       "        text-align: right;\n",
       "    }\n",
       "</style>\n",
       "<table border=\"1\" class=\"dataframe\">\n",
       "  <thead>\n",
       "    <tr style=\"text-align: right;\">\n",
       "      <th></th>\n",
       "      <th>genres</th>\n",
       "      <th>year</th>\n",
       "      <th>user_id</th>\n",
       "      <th>steam_id</th>\n",
       "      <th>item_id</th>\n",
       "      <th>item_name</th>\n",
       "      <th>playtime_forever</th>\n",
       "    </tr>\n",
       "  </thead>\n",
       "  <tbody>\n",
       "    <tr>\n",
       "      <th>0</th>\n",
       "      <td>Action</td>\n",
       "      <td>1997</td>\n",
       "      <td>Uw0tm8MeaslesVaccines</td>\n",
       "      <td>76561198057092464</td>\n",
       "      <td>282010</td>\n",
       "      <td>Carmageddon Max Pack</td>\n",
       "      <td>5</td>\n",
       "    </tr>\n",
       "    <tr>\n",
       "      <th>1</th>\n",
       "      <td>Action</td>\n",
       "      <td>1997</td>\n",
       "      <td>kelpykelpy</td>\n",
       "      <td>76561197974613697</td>\n",
       "      <td>282010</td>\n",
       "      <td>Carmageddon Max Pack</td>\n",
       "      <td>0</td>\n",
       "    </tr>\n",
       "    <tr>\n",
       "      <th>2</th>\n",
       "      <td>Action</td>\n",
       "      <td>1997</td>\n",
       "      <td>76561198049237610</td>\n",
       "      <td>76561198049237610</td>\n",
       "      <td>282010</td>\n",
       "      <td>Carmageddon Max Pack</td>\n",
       "      <td>0</td>\n",
       "    </tr>\n",
       "    <tr>\n",
       "      <th>3</th>\n",
       "      <td>Action</td>\n",
       "      <td>1997</td>\n",
       "      <td>76561198046186720</td>\n",
       "      <td>76561198046186720</td>\n",
       "      <td>282010</td>\n",
       "      <td>Carmageddon Max Pack</td>\n",
       "      <td>0</td>\n",
       "    </tr>\n",
       "    <tr>\n",
       "      <th>4</th>\n",
       "      <td>Action</td>\n",
       "      <td>1997</td>\n",
       "      <td>76561198091166709</td>\n",
       "      <td>76561198091166709</td>\n",
       "      <td>282010</td>\n",
       "      <td>Carmageddon Max Pack</td>\n",
       "      <td>13</td>\n",
       "    </tr>\n",
       "  </tbody>\n",
       "</table>\n",
       "</div>"
      ],
      "text/plain": [
       "   genres  year                user_id           steam_id  item_id  \\\n",
       "0  Action  1997  Uw0tm8MeaslesVaccines  76561198057092464   282010   \n",
       "1  Action  1997             kelpykelpy  76561197974613697   282010   \n",
       "2  Action  1997      76561198049237610  76561198049237610   282010   \n",
       "3  Action  1997      76561198046186720  76561198046186720   282010   \n",
       "4  Action  1997      76561198091166709  76561198091166709   282010   \n",
       "\n",
       "              item_name  playtime_forever  \n",
       "0  Carmageddon Max Pack                 5  \n",
       "1  Carmageddon Max Pack                 0  \n",
       "2  Carmageddon Max Pack                 0  \n",
       "3  Carmageddon Max Pack                 0  \n",
       "4  Carmageddon Max Pack                13  "
      ]
     },
     "execution_count": 58,
     "metadata": {},
     "output_type": "execute_result"
    }
   ],
   "source": [
    "# vemos como queda mas limpio el df\n",
    "data.head()"
   ]
  },
  {
   "cell_type": "code",
   "execution_count": 59,
   "metadata": {},
   "outputs": [
    {
     "name": "stdout",
     "output_type": "stream",
     "text": [
      "<class 'pandas.core.frame.DataFrame'>\n",
      "RangeIndex: 168941 entries, 0 to 168940\n",
      "Data columns (total 7 columns):\n",
      " #   Column            Non-Null Count   Dtype \n",
      "---  ------            --------------   ----- \n",
      " 0   genres            168941 non-null  object\n",
      " 1   year              168941 non-null  object\n",
      " 2   user_id           168941 non-null  object\n",
      " 3   steam_id          168941 non-null  int64 \n",
      " 4   item_id           168941 non-null  int64 \n",
      " 5   item_name         168941 non-null  object\n",
      " 6   playtime_forever  168941 non-null  int64 \n",
      "dtypes: int64(3), object(4)\n",
      "memory usage: 9.0+ MB\n"
     ]
    }
   ],
   "source": [
    "data.info()\n"
   ]
  },
  {
   "cell_type": "code",
   "execution_count": 60,
   "metadata": {},
   "outputs": [],
   "source": [
    "# Sabemos que la columna playtime_forever esta en minutos y necesitamos saber las horas, por lo tanto creamos una columna nueva y lo pasamos a horas\n",
    "data['hours_game'] = (data['playtime_forever']/60).astype(int)"
   ]
  },
  {
   "cell_type": "code",
   "execution_count": 61,
   "metadata": {},
   "outputs": [
    {
     "data": {
      "text/html": [
       "<div>\n",
       "<style scoped>\n",
       "    .dataframe tbody tr th:only-of-type {\n",
       "        vertical-align: middle;\n",
       "    }\n",
       "\n",
       "    .dataframe tbody tr th {\n",
       "        vertical-align: top;\n",
       "    }\n",
       "\n",
       "    .dataframe thead th {\n",
       "        text-align: right;\n",
       "    }\n",
       "</style>\n",
       "<table border=\"1\" class=\"dataframe\">\n",
       "  <thead>\n",
       "    <tr style=\"text-align: right;\">\n",
       "      <th></th>\n",
       "      <th>genres</th>\n",
       "      <th>year</th>\n",
       "      <th>user_id</th>\n",
       "      <th>steam_id</th>\n",
       "      <th>item_id</th>\n",
       "      <th>item_name</th>\n",
       "      <th>playtime_forever</th>\n",
       "      <th>hours_game</th>\n",
       "    </tr>\n",
       "  </thead>\n",
       "  <tbody>\n",
       "    <tr>\n",
       "      <th>0</th>\n",
       "      <td>Action</td>\n",
       "      <td>1997</td>\n",
       "      <td>Uw0tm8MeaslesVaccines</td>\n",
       "      <td>76561198057092464</td>\n",
       "      <td>282010</td>\n",
       "      <td>Carmageddon Max Pack</td>\n",
       "      <td>5</td>\n",
       "      <td>0</td>\n",
       "    </tr>\n",
       "    <tr>\n",
       "      <th>1</th>\n",
       "      <td>Action</td>\n",
       "      <td>1997</td>\n",
       "      <td>kelpykelpy</td>\n",
       "      <td>76561197974613697</td>\n",
       "      <td>282010</td>\n",
       "      <td>Carmageddon Max Pack</td>\n",
       "      <td>0</td>\n",
       "      <td>0</td>\n",
       "    </tr>\n",
       "    <tr>\n",
       "      <th>2</th>\n",
       "      <td>Action</td>\n",
       "      <td>1997</td>\n",
       "      <td>76561198049237610</td>\n",
       "      <td>76561198049237610</td>\n",
       "      <td>282010</td>\n",
       "      <td>Carmageddon Max Pack</td>\n",
       "      <td>0</td>\n",
       "      <td>0</td>\n",
       "    </tr>\n",
       "    <tr>\n",
       "      <th>3</th>\n",
       "      <td>Action</td>\n",
       "      <td>1997</td>\n",
       "      <td>76561198046186720</td>\n",
       "      <td>76561198046186720</td>\n",
       "      <td>282010</td>\n",
       "      <td>Carmageddon Max Pack</td>\n",
       "      <td>0</td>\n",
       "      <td>0</td>\n",
       "    </tr>\n",
       "    <tr>\n",
       "      <th>4</th>\n",
       "      <td>Action</td>\n",
       "      <td>1997</td>\n",
       "      <td>76561198091166709</td>\n",
       "      <td>76561198091166709</td>\n",
       "      <td>282010</td>\n",
       "      <td>Carmageddon Max Pack</td>\n",
       "      <td>13</td>\n",
       "      <td>0</td>\n",
       "    </tr>\n",
       "  </tbody>\n",
       "</table>\n",
       "</div>"
      ],
      "text/plain": [
       "   genres  year                user_id           steam_id  item_id  \\\n",
       "0  Action  1997  Uw0tm8MeaslesVaccines  76561198057092464   282010   \n",
       "1  Action  1997             kelpykelpy  76561197974613697   282010   \n",
       "2  Action  1997      76561198049237610  76561198049237610   282010   \n",
       "3  Action  1997      76561198046186720  76561198046186720   282010   \n",
       "4  Action  1997      76561198091166709  76561198091166709   282010   \n",
       "\n",
       "              item_name  playtime_forever  hours_game  \n",
       "0  Carmageddon Max Pack                 5           0  \n",
       "1  Carmageddon Max Pack                 0           0  \n",
       "2  Carmageddon Max Pack                 0           0  \n",
       "3  Carmageddon Max Pack                 0           0  \n",
       "4  Carmageddon Max Pack                13           0  "
      ]
     },
     "execution_count": 61,
     "metadata": {},
     "output_type": "execute_result"
    }
   ],
   "source": [
    "data.head()"
   ]
  },
  {
   "cell_type": "code",
   "execution_count": 62,
   "metadata": {},
   "outputs": [],
   "source": [
    "# Eliminamos la columna de playtime_forever\n",
    "data = data.drop(columns='playtime_forever')"
   ]
  },
  {
   "cell_type": "code",
   "execution_count": 63,
   "metadata": {},
   "outputs": [],
   "source": [
    "# Vamos a contar la cantidad de registros que tenemos por año\n",
    "count_año = data['year'].value_counts()"
   ]
  },
  {
   "cell_type": "code",
   "execution_count": 64,
   "metadata": {},
   "outputs": [
    {
     "name": "stdout",
     "output_type": "stream",
     "text": [
      "year\n",
      "2015    28636\n",
      "2014    27602\n",
      "2013    23016\n",
      "2012    20756\n",
      "2016    14470\n",
      "2011    13634\n",
      "2017    10034\n",
      "2010     7581\n",
      "2009     5195\n",
      "2006     4652\n",
      "2008     2368\n",
      "2007     2002\n",
      "2004     1465\n",
      "2003     1320\n",
      "NaT      1143\n",
      "2005     1029\n",
      "1999      793\n",
      "2001      568\n",
      "2002      560\n",
      "2000      520\n",
      "1998      460\n",
      "1997      345\n",
      "1995      218\n",
      "1996      139\n",
      "1994      125\n",
      "1988      116\n",
      "1993       85\n",
      "1992       47\n",
      "1991       22\n",
      "1990       19\n",
      "1983        9\n",
      "1989        6\n",
      "1984        3\n",
      "1987        3\n",
      "Name: count, dtype: int64\n"
     ]
    }
   ],
   "source": [
    "print(count_año)"
   ]
  },
  {
   "cell_type": "code",
   "execution_count": 65,
   "metadata": {},
   "outputs": [],
   "source": [
    "# Al ver la cantidad de registros que tenemos por año y que tambien tenemos valores NaT en la columna year. Decidimos quedarnos con los años que tengan mas de 1000 registros\n",
    "\n",
    "anios = ['2015', '2014', '2013', '2012', '2016', '2011', '2017', '2010', '2009', '2006', '2008', '2007', '2004', '2003', '2005']\n"
   ]
  },
  {
   "cell_type": "code",
   "execution_count": 66,
   "metadata": {},
   "outputs": [],
   "source": [
    "# Nos quedamos con los años seleccionados\n",
    "data = data[data['year'].isin(anios)]"
   ]
  },
  {
   "cell_type": "code",
   "execution_count": 67,
   "metadata": {},
   "outputs": [],
   "source": [
    "# Verificamos ahora la cantidad que tenemos\n",
    "count_anio = data['year'].value_counts()\n"
   ]
  },
  {
   "cell_type": "code",
   "execution_count": 68,
   "metadata": {},
   "outputs": [
    {
     "data": {
      "text/plain": [
       "year\n",
       "2015    28636\n",
       "2014    27602\n",
       "2013    23016\n",
       "2012    20756\n",
       "2016    14470\n",
       "2011    13634\n",
       "2017    10034\n",
       "2010     7581\n",
       "2009     5195\n",
       "2006     4652\n",
       "2008     2368\n",
       "2007     2002\n",
       "2004     1465\n",
       "2003     1320\n",
       "2005     1029\n",
       "Name: count, dtype: int64"
      ]
     },
     "execution_count": 68,
     "metadata": {},
     "output_type": "execute_result"
    }
   ],
   "source": [
    "count_anio"
   ]
  },
  {
   "cell_type": "code",
   "execution_count": 69,
   "metadata": {},
   "outputs": [
    {
     "name": "stdout",
     "output_type": "stream",
     "text": [
      "<class 'pandas.core.frame.DataFrame'>\n",
      "Index: 163760 entries, 142 to 168940\n",
      "Data columns (total 7 columns):\n",
      " #   Column      Non-Null Count   Dtype \n",
      "---  ------      --------------   ----- \n",
      " 0   genres      163760 non-null  object\n",
      " 1   year        163760 non-null  object\n",
      " 2   user_id     163760 non-null  object\n",
      " 3   steam_id    163760 non-null  int64 \n",
      " 4   item_id     163760 non-null  int64 \n",
      " 5   item_name   163760 non-null  object\n",
      " 6   hours_game  163760 non-null  int64 \n",
      "dtypes: int64(3), object(4)\n",
      "memory usage: 10.0+ MB\n"
     ]
    }
   ],
   "source": [
    "# Pedimos un info para ver el tamaño\n",
    "data.info()"
   ]
  },
  {
   "cell_type": "code",
   "execution_count": 70,
   "metadata": {},
   "outputs": [],
   "source": [
    "# Para achicar memoria eliminamos 3 columnas mas que no usamos en las funciones\n",
    "data = data.drop(columns=['steam_id', 'item_id', 'item_name'])"
   ]
  },
  {
   "cell_type": "code",
   "execution_count": 71,
   "metadata": {},
   "outputs": [
    {
     "name": "stdout",
     "output_type": "stream",
     "text": [
      "<class 'pandas.core.frame.DataFrame'>\n",
      "Index: 163760 entries, 142 to 168940\n",
      "Data columns (total 4 columns):\n",
      " #   Column      Non-Null Count   Dtype \n",
      "---  ------      --------------   ----- \n",
      " 0   genres      163760 non-null  object\n",
      " 1   year        163760 non-null  object\n",
      " 2   user_id     163760 non-null  object\n",
      " 3   hours_game  163760 non-null  int64 \n",
      "dtypes: int64(1), object(3)\n",
      "memory usage: 6.2+ MB\n"
     ]
    }
   ],
   "source": [
    "data.info()"
   ]
  },
  {
   "cell_type": "code",
   "execution_count": 72,
   "metadata": {},
   "outputs": [],
   "source": [
    "# Realizamos la primer funcion\n",
    "\n",
    "def playTimeGenre(genres):\n",
    "    \n",
    "    filtro = data[data['genres'] == genres] # ponemos que el filtro para que el genero ingresado sea igual al del df\n",
    "    if filtro.empty:\n",
    "        return f\"El genero {genres} no se encuentra en los registros\" \n",
    "    else:\n",
    "        anio_max_horas = filtro.loc[filtro['hours_game'].idxmax(), 'year']\n",
    "        \n",
    "    return f\"El Año de lanzamiento con mas horas jugadas para el genero {genres}: {anio_max_horas}\""
   ]
  },
  {
   "cell_type": "code",
   "execution_count": 73,
   "metadata": {},
   "outputs": [
    {
     "data": {
      "text/plain": [
       "'El Año de lanzamiento con mas horas jugadas para el genero Action: 2013'"
      ]
     },
     "execution_count": 73,
     "metadata": {},
     "output_type": "execute_result"
    }
   ],
   "source": [
    "# Probamos la funcion\n",
    "playTimeGenre('Action')"
   ]
  },
  {
   "cell_type": "code",
   "execution_count": 74,
   "metadata": {},
   "outputs": [],
   "source": [
    "# Realizamos la segunda funcion\n",
    "def userForGenre (genres):\n",
    "    \n",
    "    filtro = data[data['genres'] == genres]\n",
    "    if filtro.empty:\n",
    "        return f\"el genero {genres} no se encuentra en los registros\"\n",
    "    else:\n",
    "        usuario_max_horas = filtro.loc[filtro['hours_game'].idxmax()]['user_id']\n",
    "        acumulacion_horas_anio = filtro.groupby('year')['hours_game'].sum().reset_index()\n",
    "    \n",
    "    result = {\n",
    "        \"Usuario con más horas jugadas para Género \" + genres: usuario_max_horas,\n",
    "        \"Horas jugadas\": [{\"Año\":row['year'], \"Horas\": row['hours_game']} for index, row in acumulacion_horas_anio.iterrows()]\n",
    "    }\n",
    "    \n",
    "    return result\n",
    "    "
   ]
  },
  {
   "cell_type": "code",
   "execution_count": 75,
   "metadata": {},
   "outputs": [
    {
     "data": {
      "text/plain": [
       "{'Usuario con más horas jugadas para Género Action': '76561198066412851',\n",
       " 'Horas jugadas': [{'Año': '2003', 'Horas': 4459},\n",
       "  {'Año': '2004', 'Horas': 28775},\n",
       "  {'Año': '2005', 'Horas': 3694},\n",
       "  {'Año': '2006', 'Horas': 3410},\n",
       "  {'Año': '2007', 'Horas': 4416},\n",
       "  {'Año': '2008', 'Horas': 13780},\n",
       "  {'Año': '2009', 'Horas': 62682},\n",
       "  {'Año': '2010', 'Horas': 72250},\n",
       "  {'Año': '2011', 'Horas': 110914},\n",
       "  {'Año': '2012', 'Horas': 396803},\n",
       "  {'Año': '2013', 'Horas': 187401},\n",
       "  {'Año': '2014', 'Horas': 62299},\n",
       "  {'Año': '2015', 'Horas': 108696},\n",
       "  {'Año': '2016', 'Horas': 44880},\n",
       "  {'Año': '2017', 'Horas': 59083}]}"
      ]
     },
     "execution_count": 75,
     "metadata": {},
     "output_type": "execute_result"
    }
   ],
   "source": [
    "# Probamos la funcion\n",
    "userForGenre('Action')"
   ]
  },
  {
   "cell_type": "code",
   "execution_count": 76,
   "metadata": {},
   "outputs": [],
   "source": [
    "# Exportamos el dataframe con el que realizamos las funciones a un archivo parquet para que ocupe menos espacio y podamos utilizarlo en FastApi\n",
    "ruta_parquet = 'genres.parquet'"
   ]
  },
  {
   "cell_type": "code",
   "execution_count": 77,
   "metadata": {},
   "outputs": [],
   "source": [
    "data.to_parquet(ruta_parquet, engine='fastparquet')"
   ]
  }
 ],
 "metadata": {
  "interpreter": {
   "hash": "aee8b7b246df8f9039afb4144a1f6fd8d2ca17a180786b69acc140d282b71a49"
  },
  "kernelspec": {
   "display_name": "Python 3.11.4 64-bit",
   "language": "python",
   "name": "python3"
  },
  "language_info": {
   "codemirror_mode": {
    "name": "ipython",
    "version": 3
   },
   "file_extension": ".py",
   "mimetype": "text/x-python",
   "name": "python",
   "nbconvert_exporter": "python",
   "pygments_lexer": "ipython3",
   "version": "3.11.4"
  },
  "orig_nbformat": 4
 },
 "nbformat": 4,
 "nbformat_minor": 2
}
